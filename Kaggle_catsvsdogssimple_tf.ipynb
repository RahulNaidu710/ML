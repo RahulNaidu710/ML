{
  "nbformat": 4,
  "nbformat_minor": 0,
  "metadata": {
    "colab": {
      "name": "Kaggle/catsvsdogssimple/tf.ipynb",
      "provenance": [],
      "collapsed_sections": [],
      "authorship_tag": "ABX9TyOougo15h4bdRL/GR1hj80N",
      "include_colab_link": true
    },
    "kernelspec": {
      "name": "python3",
      "display_name": "Python 3"
    },
    "accelerator": "GPU"
  },
  "cells": [
    {
      "cell_type": "markdown",
      "metadata": {
        "id": "view-in-github",
        "colab_type": "text"
      },
      "source": [
        "<a href=\"https://colab.research.google.com/github/RahulNaidu710/datasciencecoursera/blob/master/Kaggle_catsvsdogssimple_tf.ipynb\" target=\"_parent\"><img src=\"https://colab.research.google.com/assets/colab-badge.svg\" alt=\"Open In Colab\"/></a>"
      ]
    },
    {
      "cell_type": "code",
      "metadata": {
        "id": "2Pa-9chxSJA5",
        "colab_type": "code",
        "colab": {}
      },
      "source": [
        "# Mount to google drive\n",
        "from google.colab import drive\n",
        "drive.mount('/content/drive')"
      ],
      "execution_count": null,
      "outputs": []
    },
    {
      "cell_type": "code",
      "metadata": {
        "id": "AS8h11A_2UYP",
        "colab_type": "code",
        "colab": {}
      },
      "source": [
        "# Import required libraries\n",
        "import numpy as np\n",
        "import pandas as pd\n",
        "import tensorflow as tf\n",
        "import os\n",
        "import re\n",
        "import glob\n",
        "import matplotlib.image as mpimg\n",
        "import matplotlib.pyplot as plt\n",
        "%matplotlib inline\n",
        "import random\n",
        "import shutil\n",
        "from shutil import copyfile\n",
        "from tensorflow.keras.optimizers import RMSprop\n",
        "from tensorflow.keras.preprocessing.image import ImageDataGenerator\n",
        "import cv2\n",
        "import pickle\n",
        "from tensorflow.keras import layers\n",
        "from tensorflow.keras import Model\n",
        "from tensorflow.keras.applications.inception_v3 import InceptionV3"
      ],
      "execution_count": 2,
      "outputs": []
    },
    {
      "cell_type": "code",
      "metadata": {
        "id": "ybANKtBLTN_1",
        "colab_type": "code",
        "colab": {}
      },
      "source": [
        "# Unrar the .rar format data \n",
        "!unrar x \"/content/drive/My Drive/cats-vs-dogs.rar\" \"/tmp\""
      ],
      "execution_count": null,
      "outputs": []
    },
    {
      "cell_type": "code",
      "metadata": {
        "id": "K3rtsFHSUGEk",
        "colab_type": "code",
        "colab": {}
      },
      "source": [
        "base_dir = '/tmp/cats-vs-dogs'\n",
        "train_dir = os.path.join(base_dir, 'train')\n",
        "test_dir = os.path.join(base_dir, 'test')\n",
        "train_cats_dir = os.path.join(train_dir, 'Cat')\n",
        "train_dogs_dir = os.path.join(train_dir, 'Dog')\n",
        "test_unknown_dir = os.path.join(test_dir, 'unknown')\n",
        "\n",
        "train_cats_fnames = os.listdir(train_cats_dir)\n",
        "train_cats_fnames.sort(key=lambda f: int(''.join(filter(str.isdigit, f)) or -1))\n",
        "train_dogs_fnames = os.listdir(train_dogs_dir)\n",
        "train_dogs_fnames.sort(key=lambda f: int(''.join(filter(str.isdigit, f)) or -1))\n",
        "test_fnames = os.listdir(test_unknown_dir)\n",
        "test_fnames.sort(key=lambda f: int(''.join(filter(str.isdigit, f)) or -1))"
      ],
      "execution_count": 4,
      "outputs": []
    },
    {
      "cell_type": "code",
      "metadata": {
        "id": "Y5tCWEpwUy5h",
        "colab_type": "code",
        "colab": {}
      },
      "source": [
        "# Prints a subset of data present all subdirectories\n",
        "print(train_cats_fnames[:10])\n",
        "print(train_dogs_fnames[:10])\n",
        "print(test_fnames[:10])"
      ],
      "execution_count": null,
      "outputs": []
    },
    {
      "cell_type": "code",
      "metadata": {
        "id": "Zn6yareDgxId",
        "colab_type": "code",
        "colab": {}
      },
      "source": [
        "print('total training cat images :', len(os.listdir(train_cats_dir)))\n",
        "print('total training dog images :', len(os.listdir(train_dogs_dir)))\n",
        "print('total test set images :', len(os.listdir(test_unknown_dir)))"
      ],
      "execution_count": null,
      "outputs": []
    },
    {
      "cell_type": "code",
      "metadata": {
        "id": "MSYbPay4naiK",
        "colab_type": "code",
        "colab": {}
      },
      "source": [
        "# Parameters for our graph; we'll output images in a 4x4 configuration\n",
        "nrows = 4\n",
        "ncols = 4\n",
        "pic_index = 0 # Index for iterating over images"
      ],
      "execution_count": null,
      "outputs": []
    },
    {
      "cell_type": "code",
      "metadata": {
        "id": "U3bQC14jngt7",
        "colab_type": "code",
        "colab": {}
      },
      "source": [
        "# Set up matplotlib fig, and size it to fit 4x4 pics\n",
        "fig = plt.gcf()\n",
        "fig.set_size_inches(ncols*4, nrows*4)\n",
        "\n",
        "pic_index+=8\n",
        "\n",
        "next_cat_pix = [os.path.join(train_cats_dir, fname) \n",
        "                for fname in train_cats_fnames[ pic_index-8:pic_index] \n",
        "               ]\n",
        "\n",
        "next_dog_pix = [os.path.join(train_dogs_dir, fname) \n",
        "                for fname in train_dogs_fnames[ pic_index-8:pic_index]\n",
        "               ]\n",
        "\n",
        "for i, img_path in enumerate(next_cat_pix+next_dog_pix):\n",
        "  # Set up subplot; subplot indices start at 1\n",
        "  sp = plt.subplot(nrows, ncols, i + 1)\n",
        "  sp.axis('Off') # Don't show axes (or gridlines)\n",
        "\n",
        "  img = mpimg.imread(img_path)\n",
        "  plt.imshow(img)\n",
        "\n",
        "plt.show()"
      ],
      "execution_count": null,
      "outputs": []
    },
    {
      "cell_type": "code",
      "metadata": {
        "id": "I2VH2oQDeiHL",
        "colab_type": "code",
        "colab": {}
      },
      "source": [
        "# Creates new training and validation directories\n",
        "try:\n",
        "    os.makedirs('/tmp/cats-vs-dogs/training/Cat')\n",
        "    os.makedirs('/tmp/cats-vs-dogs/training/Dog')\n",
        "    os.makedirs('/tmp/cats-vs-dogs/validation/Cat')\n",
        "    os.makedirs('/tmp/cats-vs-dogs/validation/Dog')\n",
        "except OSError:\n",
        "    pass"
      ],
      "execution_count": 7,
      "outputs": []
    },
    {
      "cell_type": "code",
      "metadata": {
        "id": "V35k0Og8fGJT",
        "colab_type": "code",
        "colab": {}
      },
      "source": [
        "# Function to split and copy data from source to training and validation subdirectories\n",
        "def split_data(source, training, validation, split_size):\n",
        "    files = []\n",
        "    for filename in os.listdir(source):\n",
        "        file = source + filename\n",
        "        if os.path.getsize(file) > 0:\n",
        "            files.append(filename)\n",
        "        else:\n",
        "            print(filename + ' is of 0 length, so ignoring it')\n",
        "    \n",
        "    training_length = int(len(files) * split_size)\n",
        "    validation_length = int(len(files) - training_length)\n",
        "    shuffled_set = random.sample(files, len(files))\n",
        "    training_set = shuffled_set[0:training_length]\n",
        "    validation_set = shuffled_set[-validation_length:]\n",
        "\n",
        "    for filename in training_set:\n",
        "        this_file = source + filename\n",
        "        destination = training + filename\n",
        "        copyfile(this_file, destination)\n",
        "\n",
        "    for filename in validation_set:\n",
        "        this_file = source + filename\n",
        "        destination = validation + filename\n",
        "        copyfile(this_file, destination)\n",
        "        \n",
        "cat_source_dir = \"/tmp/cats-vs-dogs/train/Cat/\"\n",
        "training_cats_dir = \"/tmp/cats-vs-dogs/training/Cat/\"\n",
        "validation_cats_dir = \"/tmp/cats-vs-dogs/validation/Cat/\"\n",
        "dog_source_dir = \"/tmp/cats-vs-dogs/train/Dog/\"\n",
        "training_dogs_dir = \"/tmp/cats-vs-dogs/training/Dog/\"\n",
        "validation_dogs_dir = \"/tmp/cats-vs-dogs/validation/Dog/\""
      ],
      "execution_count": 8,
      "outputs": []
    },
    {
      "cell_type": "code",
      "metadata": {
        "id": "XjV4KkyfmYGj",
        "colab_type": "code",
        "colab": {}
      },
      "source": [
        "split_size = .9\n",
        "split_data(cat_source_dir, training_cats_dir, validation_cats_dir, split_size)\n",
        "split_data(dog_source_dir, training_dogs_dir, validation_dogs_dir, split_size)"
      ],
      "execution_count": null,
      "outputs": []
    },
    {
      "cell_type": "code",
      "metadata": {
        "id": "FCJSnw3HhjhK",
        "colab_type": "code",
        "colab": {}
      },
      "source": [
        "print(len(os.listdir('/tmp/cats-vs-dogs/training/Cat/')))\n",
        "print(len(os.listdir('/tmp/cats-vs-dogs/training/Dog/')))\n",
        "print(len(os.listdir('/tmp/cats-vs-dogs/validation/Cat/')))\n",
        "print(len(os.listdir('/tmp/cats-vs-dogs/validation/Dog/')))"
      ],
      "execution_count": null,
      "outputs": []
    },
    {
      "cell_type": "code",
      "metadata": {
        "id": "qPa-iXYItl9k",
        "colab_type": "code",
        "colab": {}
      },
      "source": [
        "# Define model\n",
        "model = tf.keras.models.Sequential([\n",
        "    # Note the input shape is the desired size of the image 150x150 with 3 bytes color\n",
        "    tf.keras.layers.Conv2D(16, (3,3), activation='relu', input_shape=(150, 150, 3)),\n",
        "    tf.keras.layers.MaxPooling2D(2,2),\n",
        "    tf.keras.layers.Conv2D(32, (3,3), activation='relu'),\n",
        "    tf.keras.layers.MaxPooling2D(2,2), \n",
        "    tf.keras.layers.Conv2D(64, (3,3), activation='relu'), \n",
        "    tf.keras.layers.MaxPooling2D(2,2),\n",
        "    # Flatten the results to feed into a DNN\n",
        "    tf.keras.layers.Flatten(), \n",
        "    # 512 neuron hidden layer\n",
        "    tf.keras.layers.Dense(512, activation='relu'), \n",
        "    # Only 1 output neuron. It will contain a value from 0-1 where 0 for 1 class ('cats') and 1 for the other ('dogs')\n",
        "    tf.keras.layers.Dense(1, activation='sigmoid')  \n",
        "])"
      ],
      "execution_count": null,
      "outputs": []
    },
    {
      "cell_type": "code",
      "metadata": {
        "id": "4QDTiq-O8_ut",
        "colab_type": "code",
        "colab": {}
      },
      "source": [
        "# Downloads an instance of weights for the inception model\n",
        "!wget --no-check-certificate \\\n",
        "    https://storage.googleapis.com/mledu-datasets/inception_v3_weights_tf_dim_ordering_tf_kernels_notop.h5 \\\n",
        "    -O /tmp/inception_v3_weights_tf_dim_ordering_tf_kernels_notop.h5"
      ],
      "execution_count": null,
      "outputs": []
    },
    {
      "cell_type": "code",
      "metadata": {
        "id": "tHCloioD9awR",
        "colab_type": "code",
        "colab": {}
      },
      "source": [
        "# Define pretrained model\n",
        "local_weights_file = '/tmp/inception_v3_weights_tf_dim_ordering_tf_kernels_notop.h5'\n",
        "\n",
        "pre_trained_model = InceptionV3(input_shape = (150, 150, 3), \n",
        "                                include_top = False, \n",
        "                                weights = None)\n",
        "\n",
        "pre_trained_model.load_weights(local_weights_file)\n",
        "\n",
        "for layer in pre_trained_model.layers:\n",
        "  layer.trainable = False\n",
        "  \n",
        "pre_trained_model.summary()"
      ],
      "execution_count": null,
      "outputs": []
    },
    {
      "cell_type": "code",
      "metadata": {
        "id": "_7M6DqOG9k6_",
        "colab_type": "code",
        "colab": {}
      },
      "source": [
        "last_layer = pre_trained_model.get_layer('mixed7')\n",
        "print('last layer output shape: ', last_layer.output_shape)\n",
        "last_output = last_layer.output"
      ],
      "execution_count": null,
      "outputs": []
    },
    {
      "cell_type": "code",
      "metadata": {
        "id": "ovQ_5Wru9u5Z",
        "colab_type": "code",
        "colab": {}
      },
      "source": [
        "# Flatten the output layer to 1 dimension\n",
        "x = layers.Flatten()(last_output)\n",
        "# Add a fully connected layer with 1,024 hidden units and ReLU activation\n",
        "x = layers.Dense(1024, activation='relu')(x)\n",
        "# Add a dropout rate of 0.2\n",
        "x = layers.Dropout(0.2)(x)                  \n",
        "# Add a final sigmoid layer for classification\n",
        "x = layers.Dense(1, activation='sigmoid')(x)       \n",
        "\n",
        "model = Model(pre_trained_model.input, x)"
      ],
      "execution_count": 14,
      "outputs": []
    },
    {
      "cell_type": "code",
      "metadata": {
        "id": "lP6Iiglot_Cm",
        "colab_type": "code",
        "colab": {}
      },
      "source": [
        "# Compiles model\n",
        "model.compile(optimizer = 'adam',\n",
        "              loss='binary_crossentropy',\n",
        "              metrics = ['accuracy'])"
      ],
      "execution_count": 15,
      "outputs": []
    },
    {
      "cell_type": "code",
      "metadata": {
        "id": "LfdKqRrNuC5f",
        "colab_type": "code",
        "colab": {}
      },
      "source": [
        "# Creates train, validation and test generators\n",
        "train_datagen = ImageDataGenerator(rescale = 1.0/255., rotation_range = 40,\n",
        "                                   width_shift_range = 0.2,\n",
        "                                   height_shift_range = 0.2,\n",
        "                                   shear_range = 0.2,\n",
        "                                   zoom_range = 0.2,\n",
        "                                   horizontal_flip = True,\n",
        "                                   fill_mode = 'nearest')\n",
        "validation_datagen = ImageDataGenerator(rescale = 1/255.)\n",
        "test_datagen = ImageDataGenerator(rescale = 1/255.)\n",
        "\n",
        "training_dir = '/tmp/cats-vs-dogs/training'\n",
        "validation_dir = '/tmp/cats-vs-dogs/validation'\n",
        "test_dir = '/tmp/cats-vs-dogs/test'\n",
        "\n",
        "train_generator = train_datagen.flow_from_directory(training_dir,\n",
        "                                                    batch_size = 20,\n",
        "                                                    class_mode = 'binary',\n",
        "                                                    target_size = (150, 150))\n",
        "\n",
        "validation_generator = validation_datagen.flow_from_directory(validation_dir,\n",
        "                                                              batch_size = 20,\n",
        "                                                              class_mode = 'binary',\n",
        "                                                              target_size = (150, 150))\n",
        "\n",
        "test_generator = test_datagen.flow_from_directory(test_dir,\n",
        "                                                  batch_size = 20,\n",
        "                                                  class_mode = None,\n",
        "                                                  target_size = (150, 150),\n",
        "                                                  shuffle = False)\n"
      ],
      "execution_count": null,
      "outputs": []
    },
    {
      "cell_type": "code",
      "metadata": {
        "id": "c8ku8C-7uIOK",
        "colab_type": "code",
        "colab": {}
      },
      "source": [
        "# Defines callbacks\n",
        "class myCallback(tf.keras.callbacks.Callback):\n",
        "    def on_epoch_end(self, epoch, logs = {}):\n",
        "        if(logs.get('accuracy') > 0.98):\n",
        "            print('Reached 98% accuracy')\n",
        "            model.stop_training = True\n",
        "\n",
        "callback = myCallback()"
      ],
      "execution_count": 27,
      "outputs": []
    },
    {
      "cell_type": "code",
      "metadata": {
        "id": "OcL6glpNvn_Z",
        "colab_type": "code",
        "colab": {}
      },
      "source": [
        "# Fits the model\n",
        "history = model.fit(train_generator,\n",
        "                              validation_data = validation_generator,\n",
        "                              steps_per_epoch = 22500//20,\n",
        "                              epochs = 2,\n",
        "                              validation_steps = 2500//20,\n",
        "                              callbacks = [callback]\n",
        "                              )"
      ],
      "execution_count": null,
      "outputs": []
    },
    {
      "cell_type": "code",
      "metadata": {
        "id": "RZsi8cvFwXIu",
        "colab_type": "code",
        "colab": {}
      },
      "source": [
        "# Saves and loads models\n",
        "model.save('model_inceptiontf_30ep.h5')\n",
        "#from tensorflow.keras.models import load_model\n",
        "#model = load_model('/model_aug_lr001_20ep.h5')"
      ],
      "execution_count": 21,
      "outputs": []
    },
    {
      "cell_type": "code",
      "metadata": {
        "id": "vcOgbZns4sij",
        "colab_type": "code",
        "colab": {}
      },
      "source": [
        "model.summary()"
      ],
      "execution_count": null,
      "outputs": []
    },
    {
      "cell_type": "code",
      "metadata": {
        "id": "MhQdQy-tw1lG",
        "colab_type": "code",
        "colab": {}
      },
      "source": [
        "# Plots accuracy and loss\n",
        "acc=history.history['accuracy']\n",
        "val_acc=history.history['val_accuracy']\n",
        "loss=history.history['loss']\n",
        "val_loss=history.history['val_loss']\n",
        "\n",
        "epochs=range(len(acc)) # Get number of epochs\n",
        "\n",
        "plt.plot(epochs, acc, 'r', \"Training Accuracy\")\n",
        "plt.plot(epochs, val_acc, 'b', \"Validation Accuracy\")\n",
        "plt.title('Training and validation accuracy')\n",
        "plt.figure()\n",
        "\n",
        "plt.plot(epochs, loss, 'r', \"Training Loss\")\n",
        "plt.plot(epochs, val_loss, 'b', \"Validation Loss\")\n",
        "\n",
        "plt.title('Training and validation loss')"
      ],
      "execution_count": null,
      "outputs": []
    },
    {
      "cell_type": "code",
      "metadata": {
        "id": "A2AFQC4p07qx",
        "colab_type": "code",
        "colab": {}
      },
      "source": [
        "# Makes prediticion for test set\n",
        "preds = model.predict(test_generator)\n",
        "print(preds[:5])"
      ],
      "execution_count": null,
      "outputs": []
    },
    {
      "cell_type": "code",
      "metadata": {
        "id": "9YDHrYZz1dJ_",
        "colab_type": "code",
        "colab": {}
      },
      "source": [
        "# Prepares submission file and converts it to csv\n",
        "submission = pd.DataFrame(preds)\n",
        "submission = submission.rename(columns = {0: 'label'})\n",
        "submission = submission.reset_index()\n",
        "submission = submission.rename(columns = {'index': 'id'})\n",
        "submission['id'] = submission.index + 1\n",
        "submission.to_csv('r.csv', index = False)"
      ],
      "execution_count": 20,
      "outputs": []
    },
    {
      "cell_type": "code",
      "metadata": {
        "id": "ebvmClieKN7Z",
        "colab_type": "code",
        "colab": {}
      },
      "source": [
        "# Lets you upload your own image and classifies it\n",
        "import numpy as np\n",
        "from google.colab import files\n",
        "from keras.preprocessing import image\n",
        "\n",
        "uploaded = files.upload()\n",
        "\n",
        "for fn in uploaded.keys():\n",
        " \n",
        "  # predicting images\n",
        "  path = '/content/' + fn\n",
        "  img = image.load_img(path, target_size=(150, 150))\n",
        "  x = image.img_to_array(img)\n",
        "  x = x/255.\n",
        "  x = np.expand_dims(x, axis=0)\n",
        "\n",
        "  images = np.vstack([x])\n",
        "  classes = model.predict(images, batch_size=10)\n",
        "  print(classes[0])\n",
        "  if classes[0] > 0.5:\n",
        "      print('It is a dog')\n",
        "  else: print('It is a cat')\n"
      ],
      "execution_count": null,
      "outputs": []
    }
  ]
}