{
  "nbformat": 4,
  "nbformat_minor": 0,
  "metadata": {
    "colab": {
      "name": "Sarcasm_detection.ipynb",
      "provenance": [],
      "collapsed_sections": [],
      "authorship_tag": "ABX9TyO87RSyYBEISaRVzgmP0+Og",
      "include_colab_link": true
    },
    "kernelspec": {
      "name": "python3",
      "display_name": "Python 3"
    }
  },
  "cells": [
    {
      "cell_type": "markdown",
      "metadata": {
        "id": "view-in-github",
        "colab_type": "text"
      },
      "source": [
        "<a href=\"https://colab.research.google.com/github/RahulNaidu710/ML/blob/master/Sarcasm_detection.ipynb\" target=\"_parent\"><img src=\"https://colab.research.google.com/assets/colab-badge.svg\" alt=\"Open In Colab\"/></a>"
      ]
    },
    {
      "cell_type": "code",
      "metadata": {
        "id": "sR8twyGdthcx",
        "colab_type": "code",
        "colab": {
          "base_uri": "https://localhost:8080/",
          "height": 121
        },
        "outputId": "1a72ec5d-76c3-4eae-e8eb-b3fc427d9a30"
      },
      "source": [
        "from google.colab import drive\n",
        "drive.mount('/content/drive/')"
      ],
      "execution_count": null,
      "outputs": [
        {
          "output_type": "stream",
          "text": [
            "Go to this URL in a browser: https://accounts.google.com/o/oauth2/auth?client_id=947318989803-6bn6qk8qdgf4n4g3pfee6491hc0brc4i.apps.googleusercontent.com&redirect_uri=urn%3aietf%3awg%3aoauth%3a2.0%3aoob&response_type=code&scope=email%20https%3a%2f%2fwww.googleapis.com%2fauth%2fdocs.test%20https%3a%2f%2fwww.googleapis.com%2fauth%2fdrive%20https%3a%2f%2fwww.googleapis.com%2fauth%2fdrive.photos.readonly%20https%3a%2f%2fwww.googleapis.com%2fauth%2fpeopleapi.readonly\n",
            "\n",
            "Enter your authorization code:\n",
            "··········\n",
            "Mounted at /content/drive/\n"
          ],
          "name": "stdout"
        }
      ]
    },
    {
      "cell_type": "code",
      "metadata": {
        "id": "UrYRXZOzxaqV",
        "colab_type": "code",
        "colab": {}
      },
      "source": [
        "import zipfile\n",
        "zip_ref = zipfile.ZipFile('/content/drive/My Drive/sarcasm.zip', 'r')\n",
        "zip_ref.extractall('/tmp')\n",
        "zip_ref.close()"
      ],
      "execution_count": null,
      "outputs": []
    },
    {
      "cell_type": "code",
      "metadata": {
        "id": "K70Gg1pF1Yv2",
        "colab_type": "code",
        "colab": {
          "base_uri": "https://localhost:8080/",
          "height": 201
        },
        "outputId": "144eb4a0-8a16-4f6d-a164-3de82c1eec5e"
      },
      "source": [
        "!wget --no-check-certificate \\\n",
        "    https://storage.googleapis.com/laurencemoroney-blog.appspot.com/sarcasm.json \\\n",
        "    -O /tmp/sarcasm.json"
      ],
      "execution_count": null,
      "outputs": [
        {
          "output_type": "stream",
          "text": [
            "--2020-06-18 11:24:43--  https://storage.googleapis.com/laurencemoroney-blog.appspot.com/sarcasm.json\n",
            "Resolving storage.googleapis.com (storage.googleapis.com)... 172.217.204.128, 2607:f8b0:400c:c07::80\n",
            "Connecting to storage.googleapis.com (storage.googleapis.com)|172.217.204.128|:443... connected.\n",
            "HTTP request sent, awaiting response... 200 OK\n",
            "Length: 5643545 (5.4M) [application/json]\n",
            "Saving to: ‘/tmp/sarcasm.json’\n",
            "\n",
            "\r/tmp/sarcasm.json     0%[                    ]       0  --.-KB/s               \r/tmp/sarcasm.json   100%[===================>]   5.38M  --.-KB/s    in 0.04s   \n",
            "\n",
            "2020-06-18 11:24:43 (139 MB/s) - ‘/tmp/sarcasm.json’ saved [5643545/5643545]\n",
            "\n"
          ],
          "name": "stdout"
        }
      ]
    },
    {
      "cell_type": "code",
      "metadata": {
        "id": "0SVtrDZpyEx6",
        "colab_type": "code",
        "colab": {}
      },
      "source": [
        "import json\n",
        "import tensorflow as tf\n",
        "from tensorflow.keras.preprocessing.text import Tokenizer\n",
        "from tensorflow.keras.preprocessing.sequence import pad_sequences"
      ],
      "execution_count": null,
      "outputs": []
    },
    {
      "cell_type": "code",
      "metadata": {
        "id": "4oUsTNTWLUP2",
        "colab_type": "code",
        "colab": {}
      },
      "source": [
        "vocab_size = 10000\n",
        "embedding_dim = 16\n",
        "max_length = 100\n",
        "trunc_type='post'\n",
        "padding_type='post'\n",
        "oov_tok = \"<OOV>\"\n",
        "training_size = 20000"
      ],
      "execution_count": null,
      "outputs": []
    },
    {
      "cell_type": "code",
      "metadata": {
        "id": "mwF3ndtpLLqV",
        "colab_type": "code",
        "colab": {}
      },
      "source": [
        "with open('/tmp/sarcasm.json', 'r') as f:\n",
        "    datastore = json.load(f)\n",
        "\n",
        "sentences = []\n",
        "labels = []\n",
        "urls = []\n",
        "for item in datastore:\n",
        "    sentences.append(item['headline'])\n",
        "    labels.append(item['is_sarcastic'])\n",
        "    urls.append(item['article_link'])"
      ],
      "execution_count": null,
      "outputs": []
    },
    {
      "cell_type": "code",
      "metadata": {
        "id": "v2MOMu5ELj9u",
        "colab_type": "code",
        "colab": {}
      },
      "source": [
        "training_sentences = sentences[0:training_size]\n",
        "testing_sentences = sentences[training_size:]\n",
        "training_labels = labels[0:training_size]\n",
        "testing_labels = labels[training_size:]"
      ],
      "execution_count": null,
      "outputs": []
    },
    {
      "cell_type": "code",
      "metadata": {
        "id": "K7Mqwaze2IH7",
        "colab_type": "code",
        "colab": {}
      },
      "source": [
        "\n",
        "\n",
        "tokenizer = Tokenizer(num_words = vocab_size, oov_token = oov_tok)\n",
        "tokenizer.fit_on_texts(training_sentences)\n",
        "\n",
        "word_index = tokenizer.word_index\n",
        "\n",
        "training_sequences = tokenizer.texts_to_sequences(training_sentences)\n",
        "training_padded = pad_sequences(training_sequences, maxlen = max_length, padding = padding_type, truncating = trunc_type)\n",
        "\n",
        "testing_sequences = tokenizer.texts_to_sequences(testing_sentences)\n",
        "testing_padded = pad_sequences(testing_sequences, maxlen=max_length, padding=padding_type, truncating=trunc_type)"
      ],
      "execution_count": null,
      "outputs": []
    },
    {
      "cell_type": "code",
      "metadata": {
        "id": "Q60wfYtg3nnN",
        "colab_type": "code",
        "colab": {}
      },
      "source": [
        "import numpy as np\n",
        "training_padded = np.array(training_padded)\n",
        "training_labels = np.array(training_labels)\n",
        "testing_padded = np.array(testing_padded)\n",
        "testing_labels = np.array(testing_labels)"
      ],
      "execution_count": null,
      "outputs": []
    },
    {
      "cell_type": "code",
      "metadata": {
        "id": "93xGENiPMaGa",
        "colab_type": "code",
        "colab": {}
      },
      "source": [
        "model = tf.keras.Sequential([\n",
        "    tf.keras.layers.Embedding(vocab_size, embedding_dim, input_length=max_length),\n",
        "    tf.keras.layers.GlobalAveragePooling1D(),\n",
        "    tf.keras.layers.Dense(24, activation='relu'),\n",
        "    tf.keras.layers.Dense(1, activation='sigmoid')\n",
        "])\n",
        "model.compile(loss='binary_crossentropy',optimizer='adam',metrics=['accuracy'])"
      ],
      "execution_count": null,
      "outputs": []
    },
    {
      "cell_type": "code",
      "metadata": {
        "id": "xUuwcPVYMhLl",
        "colab_type": "code",
        "colab": {
          "base_uri": "https://localhost:8080/",
          "height": 285
        },
        "outputId": "f460f854-0535-4c65-abf7-07cac9564056"
      },
      "source": [
        "model.summary()"
      ],
      "execution_count": null,
      "outputs": [
        {
          "output_type": "stream",
          "text": [
            "Model: \"sequential\"\n",
            "_________________________________________________________________\n",
            "Layer (type)                 Output Shape              Param #   \n",
            "=================================================================\n",
            "embedding (Embedding)        (None, 100, 16)           160000    \n",
            "_________________________________________________________________\n",
            "global_average_pooling1d (Gl (None, 16)                0         \n",
            "_________________________________________________________________\n",
            "dense (Dense)                (None, 24)                408       \n",
            "_________________________________________________________________\n",
            "dense_1 (Dense)              (None, 1)                 25        \n",
            "=================================================================\n",
            "Total params: 160,433\n",
            "Trainable params: 160,433\n",
            "Non-trainable params: 0\n",
            "_________________________________________________________________\n"
          ],
          "name": "stdout"
        }
      ]
    },
    {
      "cell_type": "code",
      "metadata": {
        "id": "AR_ZNsBIMnuv",
        "colab_type": "code",
        "colab": {
          "base_uri": "https://localhost:8080/",
          "height": 1000
        },
        "outputId": "bed1f2a8-b0f0-4adb-c5d2-0d242c82c2c6"
      },
      "source": [
        "num_epochs = 30\n",
        "history = model.fit(training_padded, training_labels, epochs=num_epochs, validation_data=(testing_padded, testing_labels), verbose=2)"
      ],
      "execution_count": null,
      "outputs": [
        {
          "output_type": "stream",
          "text": [
            "Epoch 1/30\n",
            "625/625 - 2s - loss: 0.6732 - accuracy: 0.5788 - val_loss: 0.6056 - val_accuracy: 0.7083\n",
            "Epoch 2/30\n",
            "625/625 - 2s - loss: 0.4443 - accuracy: 0.8228 - val_loss: 0.3864 - val_accuracy: 0.8363\n",
            "Epoch 3/30\n",
            "625/625 - 2s - loss: 0.3149 - accuracy: 0.8749 - val_loss: 0.3521 - val_accuracy: 0.8530\n",
            "Epoch 4/30\n",
            "625/625 - 2s - loss: 0.2641 - accuracy: 0.8967 - val_loss: 0.3426 - val_accuracy: 0.8551\n",
            "Epoch 5/30\n",
            "625/625 - 2s - loss: 0.2285 - accuracy: 0.9101 - val_loss: 0.3535 - val_accuracy: 0.8438\n",
            "Epoch 6/30\n",
            "625/625 - 2s - loss: 0.2013 - accuracy: 0.9226 - val_loss: 0.3517 - val_accuracy: 0.8541\n",
            "Epoch 7/30\n",
            "625/625 - 2s - loss: 0.1786 - accuracy: 0.9331 - val_loss: 0.3583 - val_accuracy: 0.8536\n",
            "Epoch 8/30\n",
            "625/625 - 2s - loss: 0.1610 - accuracy: 0.9397 - val_loss: 0.3677 - val_accuracy: 0.8544\n",
            "Epoch 9/30\n",
            "625/625 - 2s - loss: 0.1451 - accuracy: 0.9473 - val_loss: 0.4364 - val_accuracy: 0.8311\n",
            "Epoch 10/30\n",
            "625/625 - 2s - loss: 0.1334 - accuracy: 0.9518 - val_loss: 0.4042 - val_accuracy: 0.8492\n",
            "Epoch 11/30\n",
            "625/625 - 2s - loss: 0.1205 - accuracy: 0.9578 - val_loss: 0.4386 - val_accuracy: 0.8414\n",
            "Epoch 12/30\n",
            "625/625 - 2s - loss: 0.1099 - accuracy: 0.9629 - val_loss: 0.4568 - val_accuracy: 0.8386\n",
            "Epoch 13/30\n",
            "625/625 - 2s - loss: 0.1009 - accuracy: 0.9651 - val_loss: 0.4630 - val_accuracy: 0.8459\n",
            "Epoch 14/30\n",
            "625/625 - 2s - loss: 0.0931 - accuracy: 0.9684 - val_loss: 0.4875 - val_accuracy: 0.8447\n",
            "Epoch 15/30\n",
            "625/625 - 2s - loss: 0.0847 - accuracy: 0.9719 - val_loss: 0.5112 - val_accuracy: 0.8427\n",
            "Epoch 16/30\n",
            "625/625 - 2s - loss: 0.0781 - accuracy: 0.9744 - val_loss: 0.5440 - val_accuracy: 0.8354\n",
            "Epoch 17/30\n",
            "625/625 - 2s - loss: 0.0716 - accuracy: 0.9772 - val_loss: 0.5707 - val_accuracy: 0.8320\n",
            "Epoch 18/30\n",
            "625/625 - 2s - loss: 0.0656 - accuracy: 0.9796 - val_loss: 0.5923 - val_accuracy: 0.8347\n",
            "Epoch 19/30\n",
            "625/625 - 2s - loss: 0.0617 - accuracy: 0.9809 - val_loss: 0.6233 - val_accuracy: 0.8320\n",
            "Epoch 20/30\n",
            "625/625 - 2s - loss: 0.0558 - accuracy: 0.9836 - val_loss: 0.6799 - val_accuracy: 0.8275\n",
            "Epoch 21/30\n",
            "625/625 - 2s - loss: 0.0521 - accuracy: 0.9851 - val_loss: 0.6834 - val_accuracy: 0.8281\n",
            "Epoch 22/30\n",
            "625/625 - 2s - loss: 0.0483 - accuracy: 0.9859 - val_loss: 0.7211 - val_accuracy: 0.8243\n",
            "Epoch 23/30\n",
            "625/625 - 2s - loss: 0.0441 - accuracy: 0.9865 - val_loss: 0.7517 - val_accuracy: 0.8244\n",
            "Epoch 24/30\n",
            "625/625 - 2s - loss: 0.0408 - accuracy: 0.9883 - val_loss: 0.7745 - val_accuracy: 0.8214\n",
            "Epoch 25/30\n",
            "625/625 - 2s - loss: 0.0387 - accuracy: 0.9888 - val_loss: 0.8068 - val_accuracy: 0.8216\n",
            "Epoch 26/30\n",
            "625/625 - 2s - loss: 0.0365 - accuracy: 0.9897 - val_loss: 0.8458 - val_accuracy: 0.8216\n",
            "Epoch 27/30\n",
            "625/625 - 2s - loss: 0.0325 - accuracy: 0.9916 - val_loss: 0.8806 - val_accuracy: 0.8211\n",
            "Epoch 28/30\n",
            "625/625 - 2s - loss: 0.0301 - accuracy: 0.9914 - val_loss: 0.9154 - val_accuracy: 0.8185\n",
            "Epoch 29/30\n",
            "625/625 - 2s - loss: 0.0289 - accuracy: 0.9922 - val_loss: 0.9743 - val_accuracy: 0.8159\n",
            "Epoch 30/30\n",
            "625/625 - 2s - loss: 0.0266 - accuracy: 0.9922 - val_loss: 0.9819 - val_accuracy: 0.8153\n"
          ],
          "name": "stdout"
        }
      ]
    },
    {
      "cell_type": "code",
      "metadata": {
        "id": "GinkUM9uMseh",
        "colab_type": "code",
        "colab": {
          "base_uri": "https://localhost:8080/",
          "height": 541
        },
        "outputId": "64fddad6-c3ad-4849-a04d-8bebf97af885"
      },
      "source": [
        "import matplotlib.pyplot as plt\n",
        "\n",
        "\n",
        "def plot_graphs(history, string):\n",
        "  plt.plot(history.history[string])\n",
        "  plt.plot(history.history['val_'+string])\n",
        "  plt.xlabel(\"Epochs\")\n",
        "  plt.ylabel(string)\n",
        "  plt.legend([string, 'val_'+string])\n",
        "  plt.show()\n",
        "  \n",
        "plot_graphs(history, \"accuracy\")\n",
        "plot_graphs(history, \"loss\")"
      ],
      "execution_count": null,
      "outputs": [
        {
          "output_type": "display_data",
          "data": {
            "image/png": "[encoded data removed]",
            "text/plain": [
              "<Figure size 432x288 with 1 Axes>"
            ]
          },
          "metadata": {
            "tags": [],
            "needs_background": "light"
          }
        },
        {
          "output_type": "display_data",
          "data": {
            "image/png": "[encoded data removed]",
            "text/plain": [
              "<Figure size 432x288 with 1 Axes>"
            ]
          },
          "metadata": {
            "tags": [],
            "needs_background": "light"
          }
        }
      ]
    },
    {
      "cell_type": "code",
      "metadata": {
        "id": "lNsnhBvYM9LN",
        "colab_type": "code",
        "colab": {
          "base_uri": "https://localhost:8080/",
          "height": 87
        },
        "outputId": "81c3f681-658d-47c6-d9a3-65bc0bb1982c"
      },
      "source": [
        "reverse_word_index = dict([(value, key) for (key, value) in word_index.items()])\n",
        "\n",
        "def decode_sentence(text):\n",
        "    return ' '.join([reverse_word_index.get(i, '?') for i in text])\n",
        "\n",
        "print(decode_sentence(training_padded[2]))\n",
        "print(training_sentences[2])\n",
        "print(labels[2])"
      ],
      "execution_count": null,
      "outputs": [
        {
          "output_type": "stream",
          "text": [
            "mom starting to fear son's web series closest thing she will have to grandchild ? ? ? ? ? ? ? ? ? ? ? ? ? ? ? ? ? ? ? ? ? ? ? ? ? ? ? ? ? ? ? ? ? ? ? ? ? ? ? ? ? ? ? ? ? ? ? ? ? ? ? ? ? ? ? ? ? ? ? ? ? ? ? ? ? ? ? ? ? ? ? ? ? ? ? ? ? ? ? ? ? ? ? ? ? ?\n",
            "mom starting to fear son's web series closest thing she will have to grandchild\n",
            "1\n"
          ],
          "name": "stdout"
        }
      ]
    },
    {
      "cell_type": "code",
      "metadata": {
        "id": "86rq_lyaNHN1",
        "colab_type": "code",
        "colab": {
          "base_uri": "https://localhost:8080/",
          "height": 34
        },
        "outputId": "8b8bb08e-0b9b-4911-bd15-3912fe23d8e0"
      },
      "source": [
        "e = model.layers[0]\n",
        "weights = e.get_weights()[0]\n",
        "print(weights.shape) # shape: (vocab_size, embedding_dim)"
      ],
      "execution_count": null,
      "outputs": [
        {
          "output_type": "stream",
          "text": [
            "(10000, 16)\n"
          ],
          "name": "stdout"
        }
      ]
    },
    {
      "cell_type": "code",
      "metadata": {
        "id": "GCi4Cn5xNNQX",
        "colab_type": "code",
        "colab": {}
      },
      "source": [
        "import io\n",
        "\n",
        "out_v = io.open('vecs.tsv', 'w', encoding='utf-8')\n",
        "out_m = io.open('meta.tsv', 'w', encoding='utf-8')\n",
        "for word_num in range(1, vocab_size):\n",
        "  word = reverse_word_index[word_num]\n",
        "  embeddings = weights[word_num]\n",
        "  out_m.write(word + \"\\n\")\n",
        "  out_v.write('\\t'.join([str(x) for x in embeddings]) + \"\\n\")\n",
        "out_v.close()\n",
        "out_m.close()"
      ],
      "execution_count": null,
      "outputs": []
    },
    {
      "cell_type": "code",
      "metadata": {
        "id": "4OEtIlyhNQDH",
        "colab_type": "code",
        "colab": {}
      },
      "source": [
        "try:\n",
        "  from google.colab import files\n",
        "except ImportError:\n",
        "  pass\n",
        "else:\n",
        "  files.download('vecs.tsv')\n",
        "  files.download('meta.tsv')"
      ],
      "execution_count": null,
      "outputs": []
    },
    {
      "cell_type": "code",
      "metadata": {
        "id": "oumLke2dNSy3",
        "colab_type": "code",
        "colab": {
          "base_uri": "https://localhost:8080/",
          "height": 50
        },
        "outputId": "b529e248-5a0c-4dc2-c008-36b5fbefca0c"
      },
      "source": [
        "sentence = [\"granny starting to fear spiders in the garden might be real\", \"game of thrones season finale showing this sunday night\"]\n",
        "sequences = tokenizer.texts_to_sequences(sentence)\n",
        "padded = pad_sequences(sequences, maxlen=max_length, padding=padding_type, truncating=trunc_type)\n",
        "print(model.predict(padded))"
      ],
      "execution_count": null,
      "outputs": [
        {
          "output_type": "stream",
          "text": [
            "[[9.7712368e-01]\n",
            " [3.9742407e-04]]\n"
          ],
          "name": "stdout"
        }
      ]
    }
  ]
}